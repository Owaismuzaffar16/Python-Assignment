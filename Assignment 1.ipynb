{
 "cells": [
  {
   "cell_type": "code",
   "execution_count": 4,
   "metadata": {},
   "outputs": [
    {
     "name": "stdout",
     "output_type": "stream",
     "text": [
      "Twinkle, twinkle, little star,\n",
      "How I wonder what you are!\n",
      "Up above the world so high,\n",
      "Like a diamond in the sky.\n",
      "\n",
      "Twinkle, twinkle, little star,\n",
      "How I wonder what you are\n"
     ]
    }
   ],
   "source": [
    "print('''Twinkle, twinkle, little star,\n",
    "How I wonder what you are!\n",
    "Up above the world so high,\n",
    "Like a diamond in the sky.\n",
    "\n",
    "Twinkle, twinkle, little star,\n",
    "How I wonder what you are''')"
   ]
  },
  {
   "cell_type": "code",
   "execution_count": 12,
   "metadata": {},
   "outputs": [
    {
     "name": "stdout",
     "output_type": "stream",
     "text": [
      "Python version\n",
      "3.7.4 (default, Aug  9 2019, 18:22:51) [MSC v.1915 32 bit (Intel)]\n",
      "Version info.\n",
      "sys.version_info(major=3, minor=7, micro=4, releaselevel='final', serial=0)\n"
     ]
    }
   ],
   "source": [
    "import sys\n",
    "print(\"Python version\")\n",
    "print (sys.version)\n",
    "print(\"Version info.\")\n",
    "print (sys.version_info)"
   ]
  },
  {
   "cell_type": "code",
   "execution_count": 13,
   "metadata": {},
   "outputs": [
    {
     "name": "stdout",
     "output_type": "stream",
     "text": [
      "Current date and time : \n",
      "2019-11-05 20:24:31\n"
     ]
    }
   ],
   "source": [
    "import datetime\n",
    "now = datetime.datetime.now()\n",
    "print (\"Current date and time : \")\n",
    "print (now.strftime(\"%Y-%m-%d %H:%M:%S\"))"
   ]
  },
  {
   "cell_type": "code",
   "execution_count": 17,
   "metadata": {},
   "outputs": [
    {
     "name": "stdout",
     "output_type": "stream",
     "text": [
      "Input the radius of the circle : 5\n",
      "The area of the circle with radius 5.0 is: 78.53981633974483\n"
     ]
    }
   ],
   "source": [
    "from math import pi\n",
    "radius = float(input (\"Input the radius of the circle : \"))\n",
    "print (\"The area of the circle with radius \" + str(radius) + \" is: \" + str(pi * radius**2))"
   ]
  },
  {
   "cell_type": "code",
   "execution_count": 18,
   "metadata": {},
   "outputs": [
    {
     "name": "stdout",
     "output_type": "stream",
     "text": [
      "Input your First Name : Owais\n",
      "Input your Last Name : Muzaffar\n",
      "Hello  Muzaffar Owais\n"
     ]
    }
   ],
   "source": [
    "firstname = input(\"Input your First Name : \")\n",
    "lastname = input(\"Input your Last Name : \")\n",
    "print (\"Hello  \" + lastname + \" \" + firstname)"
   ]
  },
  {
   "cell_type": "code",
   "execution_count": 19,
   "metadata": {},
   "outputs": [
    {
     "name": "stdout",
     "output_type": "stream",
     "text": [
      "enter first number: 6\n",
      "enter second number: 5\n",
      "sum: 11\n"
     ]
    }
   ],
   "source": [
    "a = int(input(\"enter first number: \"))\n",
    "b = int(input(\"enter second number: \"))\n",
    " \n",
    "sum = a + b\n",
    " \n",
    "print(\"sum:\", sum)"
   ]
  },
  {
   "cell_type": "code",
   "execution_count": null,
   "metadata": {},
   "outputs": [],
   "source": []
  },
  {
   "cell_type": "code",
   "execution_count": null,
   "metadata": {},
   "outputs": [],
   "source": []
  },
  {
   "cell_type": "code",
   "execution_count": null,
   "metadata": {},
   "outputs": [],
   "source": []
  }
 ],
 "metadata": {
  "kernelspec": {
   "display_name": "Python 3",
   "language": "python",
   "name": "python3"
  },
  "language_info": {
   "codemirror_mode": {
    "name": "ipython",
    "version": 3
   },
   "file_extension": ".py",
   "mimetype": "text/x-python",
   "name": "python",
   "nbconvert_exporter": "python",
   "pygments_lexer": "ipython3",
   "version": "3.7.4"
  }
 },
 "nbformat": 4,
 "nbformat_minor": 2
}
